{
 "cells": [
  {
   "cell_type": "code",
   "execution_count": null,
   "id": "8e4026b3",
   "metadata": {},
   "outputs": [],
   "source": [
    "!pip install openai"
   ]
  },
  {
   "cell_type": "code",
   "execution_count": null,
   "id": "f354b046",
   "metadata": {},
   "outputs": [],
   "source": [
    "import openai\n",
    "import os"
   ]
  },
  {
   "cell_type": "code",
   "execution_count": null,
   "id": "dadc2dff",
   "metadata": {},
   "outputs": [],
   "source": [
    "\n",
    "openai.api_key=\"OPENAI_API_KEY\""
   ]
  },
  {
   "cell_type": "code",
   "execution_count": null,
   "id": "a5bb23b8",
   "metadata": {},
   "outputs": [],
   "source": [
    "#Upload dataset\n",
    "train=openai.File.create(\n",
    "      file=open(\"path-to-dataset\",\"rb\"),\n",
    "      purpose=\"fine-tune\"\n",
    ")\n",
    "train"
   ]
  },
  {
   "cell_type": "code",
   "execution_count": null,
   "id": "a5576fec",
   "metadata": {},
   "outputs": [],
   "source": [
    "train_id=train[\"id\"]"
   ]
  },
  {
   "cell_type": "code",
   "execution_count": null,
   "id": "2df959af",
   "metadata": {},
   "outputs": [],
   "source": [
    "#create finetuning Job\n",
    "\n",
    "response=openai.FineTuningJob.create(\n",
    "    training_file=train_id,\n",
    "    model=\"gpt-3.5-turbo\"\n",
    ")\n"
   ]
  },
  {
   "cell_type": "code",
   "execution_count": null,
   "id": "a09f70fe",
   "metadata": {},
   "outputs": [],
   "source": [
    "response"
   ]
  },
  {
   "cell_type": "code",
   "execution_count": null,
   "id": "cc6899d9",
   "metadata": {},
   "outputs": [],
   "source": [
    "job_id=response[\"id\"]"
   ]
  },
  {
   "cell_type": "code",
   "execution_count": null,
   "id": "51353459",
   "metadata": {},
   "outputs": [],
   "source": [
    "response=openai.FineTuningJob.retrieve(job_id)\n",
    "response"
   ]
  },
  {
   "cell_type": "code",
   "execution_count": null,
   "id": "2c199c51",
   "metadata": {},
   "outputs": [],
   "source": [
    "test_messages=[\n",
    "    {\"role\":\"user\",\"content\":\" Add question here?\"}\n",
    "]"
   ]
  },
  {
   "cell_type": "code",
   "execution_count": null,
   "id": "49f6817b",
   "metadata": {},
   "outputs": [],
   "source": [
    "completion=openai.ChatCompletion.create(\n",
    "        model=\"gpt-3.5-turbo\",\n",
    "        messages=test_messages\n",
    "\n",
    ")"
   ]
  },
  {
   "cell_type": "code",
   "execution_count": null,
   "id": "fa1ed110",
   "metadata": {},
   "outputs": [],
   "source": [
    "print(completion.choices[0].message)"
   ]
  },
  {
   "cell_type": "code",
   "execution_count": null,
   "id": "4f174f06",
   "metadata": {},
   "outputs": [],
   "source": [
    "completion1=openai.ChatCompletion.create(\n",
    "        model=model_id,\n",
    "        messages=test_messages\n",
    "\n",
    ")"
   ]
  },
  {
   "cell_type": "code",
   "execution_count": null,
   "id": "83e5fc3d",
   "metadata": {},
   "outputs": [],
   "source": [
    "print(completion1.choices[0].message)"
   ]
  },
  {
   "cell_type": "code",
   "execution_count": null,
   "id": "b927a19f",
   "metadata": {},
   "outputs": [],
   "source": []
  }
 ],
 "metadata": {
  "kernelspec": {
   "display_name": "Python 3 (ipykernel)",
   "language": "python",
   "name": "python3"
  },
  "language_info": {
   "codemirror_mode": {
    "name": "ipython",
    "version": 3
   },
   "file_extension": ".py",
   "mimetype": "text/x-python",
   "name": "python",
   "nbconvert_exporter": "python",
   "pygments_lexer": "ipython3",
   "version": "3.10.8"
  }
 },
 "nbformat": 4,
 "nbformat_minor": 5
}
